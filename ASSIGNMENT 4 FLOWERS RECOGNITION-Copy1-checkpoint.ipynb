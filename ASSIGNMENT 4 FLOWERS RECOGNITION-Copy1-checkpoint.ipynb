{
 "cells": [
  {
   "cell_type": "code",
   "execution_count": 1,
   "metadata": {},
   "outputs": [],
   "source": [
    "import numpy as np\n",
    "import pandas as pd \n",
    "from pathlib import Path\n",
    "import os\n",
    "import matplotlib.pyplot as plt\n",
    "from keras.layers import Conv2D,Dense,Dropout,Input,Flatten,MaxPooling2D\n",
    "from keras.models import Model\n",
    "from keras.utils import plot_model,to_categorical\n",
    "from sklearn.model_selection import train_test_split\n",
    "from keras.preprocessing import image"
   ]
  },
  {
   "cell_type": "code",
   "execution_count": 4,
   "metadata": {},
   "outputs": [],
   "source": [
    "from keras.preprocessing import image\n",
    "p = Path('Downloads/archive%20(3)')\n",
    "dirs = p.glob('*')\n",
    "image_data = []\n",
    "labels = []\n",
    "label_dict = {'dandelion':0,'daisy':1,'flowers':2,'sunflower':3,'tulip':4,'rose':5}\n",
    "for folder_dir in dirs:\n",
    "    label= str(folder_dir).split('/')[-1]\n",
    "    cnt = 0\n",
    "    print(label)\n",
    "    for image_path in folder_dir.glob('*.jpg'):\n",
    "        img = image.load_img(image_path,target_size = (64,64))\n",
    "        img_array = image.img_to_array(img)\n",
    "        image_data.append(img_array)\n",
    "        labels.append(label_dict[label])"
   ]
  },
  {
   "cell_type": "code",
   "execution_count": 5,
   "metadata": {},
   "outputs": [
    {
     "data": {
      "text/plain": [
       "WindowsPath('Downloads/archive%20(3)')"
      ]
     },
     "execution_count": 5,
     "metadata": {},
     "output_type": "execute_result"
    }
   ],
   "source": [
    "p"
   ]
  },
  {
   "cell_type": "code",
   "execution_count": 6,
   "metadata": {},
   "outputs": [
    {
     "data": {
      "text/plain": [
       "pathlib.WindowsPath"
      ]
     },
     "execution_count": 6,
     "metadata": {},
     "output_type": "execute_result"
    }
   ],
   "source": [
    "type(p)"
   ]
  }
 ],
 "metadata": {
  "kernelspec": {
   "display_name": "Python 3",
   "language": "python",
   "name": "python3"
  },
  "language_info": {
   "codemirror_mode": {
    "name": "ipython",
    "version": 3
   },
   "file_extension": ".py",
   "mimetype": "text/x-python",
   "name": "python",
   "nbconvert_exporter": "python",
   "pygments_lexer": "ipython3",
   "version": "3.8.5"
  }
 },
 "nbformat": 4,
 "nbformat_minor": 4
}
