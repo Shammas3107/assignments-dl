{
 "cells": [
  {
   "cell_type": "code",
   "execution_count": 1,
   "metadata": {},
   "outputs": [],
   "source": [
    "import numpy as np\n",
    "import pandas as pd\n",
    "import matplotlib.pyplot as plt\n",
    "import tensorflow as tf\n",
    "from tensorflow.keras import layers,models\n",
    "from tensorflow.keras.utils import to_categorical\n",
    "from tensorflow.keras import regularizers\n",
    "from sklearn.utils import shuffle\n",
    "import seaborn as sns\n",
    "import os"
   ]
  },
  {
   "cell_type": "markdown",
   "metadata": {},
   "source": [
    "loading the data### "
   ]
  },
  {
   "cell_type": "code",
   "execution_count": 2,
   "metadata": {},
   "outputs": [],
   "source": [
    "df_card=pd.read_csv('Downloads/creditcard.csv/creditcard.csv')"
   ]
  },
  {
   "cell_type": "code",
   "execution_count": 3,
   "metadata": {},
   "outputs": [
    {
     "data": {
      "text/html": [
       "<div>\n",
       "<style scoped>\n",
       "    .dataframe tbody tr th:only-of-type {\n",
       "        vertical-align: middle;\n",
       "    }\n",
       "\n",
       "    .dataframe tbody tr th {\n",
       "        vertical-align: top;\n",
       "    }\n",
       "\n",
       "    .dataframe thead th {\n",
       "        text-align: right;\n",
       "    }\n",
       "</style>\n",
       "<table border=\"1\" class=\"dataframe\">\n",
       "  <thead>\n",
       "    <tr style=\"text-align: right;\">\n",
       "      <th></th>\n",
       "      <th>Time</th>\n",
       "      <th>V1</th>\n",
       "      <th>V2</th>\n",
       "      <th>V3</th>\n",
       "      <th>V4</th>\n",
       "      <th>V5</th>\n",
       "      <th>V6</th>\n",
       "      <th>V7</th>\n",
       "      <th>V8</th>\n",
       "      <th>V9</th>\n",
       "      <th>...</th>\n",
       "      <th>V21</th>\n",
       "      <th>V22</th>\n",
       "      <th>V23</th>\n",
       "      <th>V24</th>\n",
       "      <th>V25</th>\n",
       "      <th>V26</th>\n",
       "      <th>V27</th>\n",
       "      <th>V28</th>\n",
       "      <th>Amount</th>\n",
       "      <th>Class</th>\n",
       "    </tr>\n",
       "  </thead>\n",
       "  <tbody>\n",
       "    <tr>\n",
       "      <th>0</th>\n",
       "      <td>0.0</td>\n",
       "      <td>-1.359807</td>\n",
       "      <td>-0.072781</td>\n",
       "      <td>2.536347</td>\n",
       "      <td>1.378155</td>\n",
       "      <td>-0.338321</td>\n",
       "      <td>0.462388</td>\n",
       "      <td>0.239599</td>\n",
       "      <td>0.098698</td>\n",
       "      <td>0.363787</td>\n",
       "      <td>...</td>\n",
       "      <td>-0.018307</td>\n",
       "      <td>0.277838</td>\n",
       "      <td>-0.110474</td>\n",
       "      <td>0.066928</td>\n",
       "      <td>0.128539</td>\n",
       "      <td>-0.189115</td>\n",
       "      <td>0.133558</td>\n",
       "      <td>-0.021053</td>\n",
       "      <td>149.62</td>\n",
       "      <td>0</td>\n",
       "    </tr>\n",
       "    <tr>\n",
       "      <th>1</th>\n",
       "      <td>0.0</td>\n",
       "      <td>1.191857</td>\n",
       "      <td>0.266151</td>\n",
       "      <td>0.166480</td>\n",
       "      <td>0.448154</td>\n",
       "      <td>0.060018</td>\n",
       "      <td>-0.082361</td>\n",
       "      <td>-0.078803</td>\n",
       "      <td>0.085102</td>\n",
       "      <td>-0.255425</td>\n",
       "      <td>...</td>\n",
       "      <td>-0.225775</td>\n",
       "      <td>-0.638672</td>\n",
       "      <td>0.101288</td>\n",
       "      <td>-0.339846</td>\n",
       "      <td>0.167170</td>\n",
       "      <td>0.125895</td>\n",
       "      <td>-0.008983</td>\n",
       "      <td>0.014724</td>\n",
       "      <td>2.69</td>\n",
       "      <td>0</td>\n",
       "    </tr>\n",
       "    <tr>\n",
       "      <th>2</th>\n",
       "      <td>1.0</td>\n",
       "      <td>-1.358354</td>\n",
       "      <td>-1.340163</td>\n",
       "      <td>1.773209</td>\n",
       "      <td>0.379780</td>\n",
       "      <td>-0.503198</td>\n",
       "      <td>1.800499</td>\n",
       "      <td>0.791461</td>\n",
       "      <td>0.247676</td>\n",
       "      <td>-1.514654</td>\n",
       "      <td>...</td>\n",
       "      <td>0.247998</td>\n",
       "      <td>0.771679</td>\n",
       "      <td>0.909412</td>\n",
       "      <td>-0.689281</td>\n",
       "      <td>-0.327642</td>\n",
       "      <td>-0.139097</td>\n",
       "      <td>-0.055353</td>\n",
       "      <td>-0.059752</td>\n",
       "      <td>378.66</td>\n",
       "      <td>0</td>\n",
       "    </tr>\n",
       "    <tr>\n",
       "      <th>3</th>\n",
       "      <td>1.0</td>\n",
       "      <td>-0.966272</td>\n",
       "      <td>-0.185226</td>\n",
       "      <td>1.792993</td>\n",
       "      <td>-0.863291</td>\n",
       "      <td>-0.010309</td>\n",
       "      <td>1.247203</td>\n",
       "      <td>0.237609</td>\n",
       "      <td>0.377436</td>\n",
       "      <td>-1.387024</td>\n",
       "      <td>...</td>\n",
       "      <td>-0.108300</td>\n",
       "      <td>0.005274</td>\n",
       "      <td>-0.190321</td>\n",
       "      <td>-1.175575</td>\n",
       "      <td>0.647376</td>\n",
       "      <td>-0.221929</td>\n",
       "      <td>0.062723</td>\n",
       "      <td>0.061458</td>\n",
       "      <td>123.50</td>\n",
       "      <td>0</td>\n",
       "    </tr>\n",
       "    <tr>\n",
       "      <th>4</th>\n",
       "      <td>2.0</td>\n",
       "      <td>-1.158233</td>\n",
       "      <td>0.877737</td>\n",
       "      <td>1.548718</td>\n",
       "      <td>0.403034</td>\n",
       "      <td>-0.407193</td>\n",
       "      <td>0.095921</td>\n",
       "      <td>0.592941</td>\n",
       "      <td>-0.270533</td>\n",
       "      <td>0.817739</td>\n",
       "      <td>...</td>\n",
       "      <td>-0.009431</td>\n",
       "      <td>0.798278</td>\n",
       "      <td>-0.137458</td>\n",
       "      <td>0.141267</td>\n",
       "      <td>-0.206010</td>\n",
       "      <td>0.502292</td>\n",
       "      <td>0.219422</td>\n",
       "      <td>0.215153</td>\n",
       "      <td>69.99</td>\n",
       "      <td>0</td>\n",
       "    </tr>\n",
       "  </tbody>\n",
       "</table>\n",
       "<p>5 rows × 31 columns</p>\n",
       "</div>"
      ],
      "text/plain": [
       "   Time        V1        V2        V3        V4        V5        V6        V7  \\\n",
       "0   0.0 -1.359807 -0.072781  2.536347  1.378155 -0.338321  0.462388  0.239599   \n",
       "1   0.0  1.191857  0.266151  0.166480  0.448154  0.060018 -0.082361 -0.078803   \n",
       "2   1.0 -1.358354 -1.340163  1.773209  0.379780 -0.503198  1.800499  0.791461   \n",
       "3   1.0 -0.966272 -0.185226  1.792993 -0.863291 -0.010309  1.247203  0.237609   \n",
       "4   2.0 -1.158233  0.877737  1.548718  0.403034 -0.407193  0.095921  0.592941   \n",
       "\n",
       "         V8        V9  ...       V21       V22       V23       V24       V25  \\\n",
       "0  0.098698  0.363787  ... -0.018307  0.277838 -0.110474  0.066928  0.128539   \n",
       "1  0.085102 -0.255425  ... -0.225775 -0.638672  0.101288 -0.339846  0.167170   \n",
       "2  0.247676 -1.514654  ...  0.247998  0.771679  0.909412 -0.689281 -0.327642   \n",
       "3  0.377436 -1.387024  ... -0.108300  0.005274 -0.190321 -1.175575  0.647376   \n",
       "4 -0.270533  0.817739  ... -0.009431  0.798278 -0.137458  0.141267 -0.206010   \n",
       "\n",
       "        V26       V27       V28  Amount  Class  \n",
       "0 -0.189115  0.133558 -0.021053  149.62      0  \n",
       "1  0.125895 -0.008983  0.014724    2.69      0  \n",
       "2 -0.139097 -0.055353 -0.059752  378.66      0  \n",
       "3 -0.221929  0.062723  0.061458  123.50      0  \n",
       "4  0.502292  0.219422  0.215153   69.99      0  \n",
       "\n",
       "[5 rows x 31 columns]"
      ]
     },
     "execution_count": 3,
     "metadata": {},
     "output_type": "execute_result"
    }
   ],
   "source": [
    "df_card.head()"
   ]
  },
  {
   "cell_type": "markdown",
   "metadata": {},
   "source": [
    "Checking Shape and Size### "
   ]
  },
  {
   "cell_type": "code",
   "execution_count": 4,
   "metadata": {},
   "outputs": [
    {
     "name": "stdout",
     "output_type": "stream",
     "text": [
      "(284807, 31)\n",
      "8829017\n"
     ]
    }
   ],
   "source": [
    "print(df_card.shape)\n",
    "print(df_card.size)"
   ]
  },
  {
   "cell_type": "markdown",
   "metadata": {},
   "source": [
    "Cleaning the Data\n",
    "### "
   ]
  },
  {
   "cell_type": "code",
   "execution_count": 5,
   "metadata": {
    "scrolled": true
   },
   "outputs": [
    {
     "name": "stdout",
     "output_type": "stream",
     "text": [
      "<class 'pandas.core.frame.DataFrame'>\n",
      "RangeIndex: 284807 entries, 0 to 284806\n",
      "Data columns (total 31 columns):\n",
      " #   Column  Non-Null Count   Dtype  \n",
      "---  ------  --------------   -----  \n",
      " 0   Time    284807 non-null  float64\n",
      " 1   V1      284807 non-null  float64\n",
      " 2   V2      284807 non-null  float64\n",
      " 3   V3      284807 non-null  float64\n",
      " 4   V4      284807 non-null  float64\n",
      " 5   V5      284807 non-null  float64\n",
      " 6   V6      284807 non-null  float64\n",
      " 7   V7      284807 non-null  float64\n",
      " 8   V8      284807 non-null  float64\n",
      " 9   V9      284807 non-null  float64\n",
      " 10  V10     284807 non-null  float64\n",
      " 11  V11     284807 non-null  float64\n",
      " 12  V12     284807 non-null  float64\n",
      " 13  V13     284807 non-null  float64\n",
      " 14  V14     284807 non-null  float64\n",
      " 15  V15     284807 non-null  float64\n",
      " 16  V16     284807 non-null  float64\n",
      " 17  V17     284807 non-null  float64\n",
      " 18  V18     284807 non-null  float64\n",
      " 19  V19     284807 non-null  float64\n",
      " 20  V20     284807 non-null  float64\n",
      " 21  V21     284807 non-null  float64\n",
      " 22  V22     284807 non-null  float64\n",
      " 23  V23     284807 non-null  float64\n",
      " 24  V24     284807 non-null  float64\n",
      " 25  V25     284807 non-null  float64\n",
      " 26  V26     284807 non-null  float64\n",
      " 27  V27     284807 non-null  float64\n",
      " 28  V28     284807 non-null  float64\n",
      " 29  Amount  284807 non-null  float64\n",
      " 30  Class   284807 non-null  int64  \n",
      "dtypes: float64(30), int64(1)\n",
      "memory usage: 67.4 MB\n"
     ]
    }
   ],
   "source": [
    "df_card.info() #no missing values"
   ]
  },
  {
   "cell_type": "markdown",
   "metadata": {},
   "source": [
    "splitting the data### "
   ]
  },
  {
   "cell_type": "code",
   "execution_count": 16,
   "metadata": {},
   "outputs": [],
   "source": [
    "data = df.iloc[:, :-1]\n",
    "targets = df.iloc[:,-1]"
   ]
  },
  {
   "cell_type": "code",
   "execution_count": 36,
   "metadata": {},
   "outputs": [
    {
     "name": "stdout",
     "output_type": "stream",
     "text": [
      "(284807, 29)\n",
      "(284807,)\n"
     ]
    }
   ],
   "source": [
    "print(data.shape)\n",
    "print(targets.shape)"
   ]
  },
  {
   "cell_type": "code",
   "execution_count": 18,
   "metadata": {},
   "outputs": [],
   "source": [
    "from sklearn.model_selection import train_test_split"
   ]
  },
  {
   "cell_type": "markdown",
   "metadata": {},
   "source": [
    "data, data, targets, targets "
   ]
  },
  {
   "cell_type": "code",
   "execution_count": 35,
   "metadata": {},
   "outputs": [],
   "source": [
    "train_data, test_data, train_targets, test_targets = train_test_split(data, targets, test_size=.3)"
   ]
  },
  {
   "cell_type": "code",
   "execution_count": 34,
   "metadata": {},
   "outputs": [],
   "source": [
    "train_data, validation_data, train_targets, validation_targets = train_test_split(train_data, train_targets, test_size=.2)"
   ]
  },
  {
   "cell_type": "markdown",
   "metadata": {},
   "source": [
    "Standardizing Data "
   ]
  },
  {
   "cell_type": "code",
   "execution_count": 33,
   "metadata": {},
   "outputs": [],
   "source": [
    "mean = np.mean(train_data)\n",
    "std = np.std(train_data)\n",
    "\n",
    "\n",
    "train_data -= mean\n",
    "train_data /= std\n",
    "\n",
    "validation_data -= mean\n",
    "validation_data /= std\n",
    "\n",
    "test_data -= mean\n",
    "test_data /= std"
   ]
  },
  {
   "cell_type": "markdown",
   "metadata": {},
   "source": [
    "Model : input Layer (No. of features ), 3 hidden layers including 10,8,6 unit & Output Layer with activation function relu/tanh (check by experiment) "
   ]
  },
  {
   "cell_type": "code",
   "execution_count": 22,
   "metadata": {},
   "outputs": [],
   "source": [
    "from keras import models, layers"
   ]
  },
  {
   "cell_type": "markdown",
   "metadata": {},
   "source": [
    "developing model### "
   ]
  },
  {
   "cell_type": "code",
   "execution_count": 32,
   "metadata": {},
   "outputs": [],
   "source": [
    "model = models.Sequential()\n",
    "\n",
    "model.add(layers.Dense(10, input_shape=(train_data.shape[1],), activation='relu'))\n",
    "\n",
    "model.add(layers.Dense(8, activation='relu'))\n",
    "\n",
    "model.add(layers.Dense(6, activation='relu'))\n",
    "\n",
    "model.add(layers.Dense(1, activation='sigmoid'))"
   ]
  },
  {
   "cell_type": "markdown",
   "metadata": {},
   "source": [
    "Compiling Model### "
   ]
  },
  {
   "cell_type": "code",
   "execution_count": 24,
   "metadata": {},
   "outputs": [],
   "source": [
    "model.compile(optimizer='rmsprop', loss='binary_crossentropy', metrics=['accuracy'])"
   ]
  },
  {
   "cell_type": "code",
   "execution_count": 25,
   "metadata": {},
   "outputs": [
    {
     "name": "stdout",
     "output_type": "stream",
     "text": [
      "Model: \"sequential\"\n",
      "_________________________________________________________________\n",
      "Layer (type)                 Output Shape              Param #   \n",
      "=================================================================\n",
      "dense (Dense)                (None, 10)                300       \n",
      "_________________________________________________________________\n",
      "dense_1 (Dense)              (None, 8)                 88        \n",
      "_________________________________________________________________\n",
      "dense_2 (Dense)              (None, 6)                 54        \n",
      "_________________________________________________________________\n",
      "dense_3 (Dense)              (None, 1)                 7         \n",
      "=================================================================\n",
      "Total params: 449\n",
      "Trainable params: 449\n",
      "Non-trainable params: 0\n",
      "_________________________________________________________________\n"
     ]
    }
   ],
   "source": [
    "model.summary()"
   ]
  },
  {
   "cell_type": "markdown",
   "metadata": {},
   "source": [
    "training the model "
   ]
  },
  {
   "cell_type": "code",
   "execution_count": 26,
   "metadata": {},
   "outputs": [
    {
     "name": "stdout",
     "output_type": "stream",
     "text": [
      "Epoch 1/100\n",
      "4985/4985 [==============================] - 9s 2ms/step - loss: -298.1268 - accuracy: 0.0000e+00 - val_loss: -6702.2305 - val_accuracy: 0.0000e+00\n",
      "Epoch 2/100\n",
      "4985/4985 [==============================] - 8s 2ms/step - loss: -20515.1915 - accuracy: 0.0000e+00 - val_loss: -102963.3906 - val_accuracy: 0.0000e+00\n",
      "Epoch 3/100\n",
      "4985/4985 [==============================] - 7s 1ms/step - loss: -185541.0239 - accuracy: 0.0000e+00 - val_loss: -514310.0938 - val_accuracy: 0.0000e+00\n",
      "Epoch 4/100\n",
      "4985/4985 [==============================] - 9s 2ms/step - loss: -784331.3625 - accuracy: 0.0000e+00 - val_loss: -1610711.2500 - val_accuracy: 0.0000e+00\n",
      "Epoch 5/100\n",
      "4985/4985 [==============================] - 7s 1ms/step - loss: -2273985.6036 - accuracy: 0.0000e+00 - val_loss: -3914042.5000 - val_accuracy: 0.0000e+00\n",
      "Epoch 6/100\n",
      "4985/4985 [==============================] - 6s 1ms/step - loss: -5129486.7495 - accuracy: 0.0000e+00 - val_loss: -8096997.0000 - val_accuracy: 0.0000e+00\n",
      "Epoch 7/100\n",
      "4985/4985 [==============================] - 6s 1ms/step - loss: -10146668.0780 - accuracy: 0.0000e+00 - val_loss: -15011140.0000 - val_accuracy: 0.0000e+00\n",
      "Epoch 8/100\n",
      "4985/4985 [==============================] - 6s 1ms/step - loss: -19011848.5092 - accuracy: 0.0000e+00 - val_loss: -25635732.0000 - val_accuracy: 0.0000e+00\n",
      "Epoch 9/100\n",
      "4985/4985 [==============================] - 6s 1ms/step - loss: -30796309.8556 - accuracy: 0.0000e+00 - val_loss: -41154180.0000 - val_accuracy: 0.0000e+00\n",
      "Epoch 10/100\n",
      "4985/4985 [==============================] - 6s 1ms/step - loss: -49285242.2948 - accuracy: 0.0000e+00 - val_loss: -62760012.0000 - val_accuracy: 0.0000e+00\n",
      "Epoch 11/100\n",
      "4985/4985 [==============================] - 6s 1ms/step - loss: -73792825.6695 - accuracy: 0.0000e+00 - val_loss: -91811816.0000 - val_accuracy: 0.0000e+00\n",
      "Epoch 12/100\n",
      "4985/4985 [==============================] - 7s 1ms/step - loss: -106584961.2900 - accuracy: 0.0000e+00 - val_loss: -130182752.0000 - val_accuracy: 0.0000e+00\n",
      "Epoch 13/100\n",
      "4985/4985 [==============================] - 6s 1ms/step - loss: -151396434.9186 - accuracy: 0.0000e+00 - val_loss: -179431248.0000 - val_accuracy: 0.0000e+00\n",
      "Epoch 14/100\n",
      "4985/4985 [==============================] - 8s 2ms/step - loss: -200111219.4850 - accuracy: 0.0000e+00 - val_loss: -241485136.0000 - val_accuracy: 0.0000e+00\n",
      "Epoch 15/100\n",
      "4985/4985 [==============================] - 7s 1ms/step - loss: -278732962.5993 - accuracy: 0.0000e+00 - val_loss: -318935552.0000 - val_accuracy: 0.0000e+00\n",
      "Epoch 16/100\n",
      "4985/4985 [==============================] - 7s 1ms/step - loss: -368937805.2659 - accuracy: 0.0000e+00 - val_loss: -412904064.0000 - val_accuracy: 0.0000e+00\n",
      "Epoch 17/100\n",
      "4985/4985 [==============================] - 7s 1ms/step - loss: -465292125.8051 - accuracy: 0.0000e+00 - val_loss: -526143584.0000 - val_accuracy: 0.0000e+00\n",
      "Epoch 18/100\n",
      "4985/4985 [==============================] - 7s 1ms/step - loss: -618780018.0923 - accuracy: 0.0000e+00 - val_loss: -660839424.0000 - val_accuracy: 0.0000e+00\n",
      "Epoch 19/100\n",
      "4985/4985 [==============================] - 8s 2ms/step - loss: -736593443.5106 - accuracy: 0.0000e+00 - val_loss: -821136384.0000 - val_accuracy: 0.0000e+00\n",
      "Epoch 20/100\n",
      "4985/4985 [==============================] - 8s 2ms/step - loss: -927523719.0341 - accuracy: 0.0000e+00 - val_loss: -1009386560.0000 - val_accuracy: 0.0000e+00\n",
      "Epoch 21/100\n",
      "4985/4985 [==============================] - 10s 2ms/step - loss: -1103156411.0325 - accuracy: 0.0000e+00 - val_loss: -1228214144.0000 - val_accuracy: 0.0000e+00\n",
      "Epoch 22/100\n",
      "4985/4985 [==============================] - 9s 2ms/step - loss: -1389107986.4452 - accuracy: 0.0000e+00 - val_loss: -1479241728.0000 - val_accuracy: 0.0000e+00\n",
      "Epoch 23/100\n",
      "4985/4985 [==============================] - 8s 2ms/step - loss: -1646374638.7742 - accuracy: 0.0000e+00 - val_loss: -1767638912.0000 - val_accuracy: 0.0000e+00\n",
      "Epoch 24/100\n",
      "4985/4985 [==============================] - 9s 2ms/step - loss: -1954346366.7677 - accuracy: 0.0000e+00 - val_loss: -2098534400.0000 - val_accuracy: 0.0000e+00\n",
      "Epoch 25/100\n",
      "4985/4985 [==============================] - 9s 2ms/step - loss: -2316045848.3113 - accuracy: 0.0000e+00 - val_loss: -2471413248.0000 - val_accuracy: 0.0000e+00\n",
      "Epoch 26/100\n",
      "4985/4985 [==============================] - 8s 2ms/step - loss: -2754990349.0156 - accuracy: 0.0000e+00 - val_loss: -2891260416.0000 - val_accuracy: 0.0000e+00\n",
      "Epoch 27/100\n",
      "4985/4985 [==============================] - 8s 2ms/step - loss: -3143066275.9920 - accuracy: 0.0000e+00 - val_loss: -3365147136.0000 - val_accuracy: 0.0000e+00\n",
      "Epoch 28/100\n",
      "4985/4985 [==============================] - 8s 2ms/step - loss: -3759653077.0253 - accuracy: 0.0000e+00 - val_loss: -3891152896.0000 - val_accuracy: 0.0000e+00\n",
      "Epoch 29/100\n",
      "4985/4985 [==============================] - 6s 1ms/step - loss: -4276203695.5957 - accuracy: 0.0000e+00 - val_loss: -4481199104.0000 - val_accuracy: 0.0000e+00\n",
      "Epoch 30/100\n",
      "4985/4985 [==============================] - 6s 1ms/step - loss: -4826283043.3759 - accuracy: 0.0000e+00 - val_loss: -5133061632.0000 - val_accuracy: 0.0000e+00\n",
      "Epoch 31/100\n",
      "4985/4985 [==============================] - 7s 1ms/step - loss: -5819882665.8452 - accuracy: 0.0000e+00 - val_loss: -5856436736.0000 - val_accuracy: 0.0000e+00\n",
      "Epoch 32/100\n",
      "4985/4985 [==============================] - 6s 1ms/step - loss: -6532411394.9779 - accuracy: 0.0000e+00 - val_loss: -6655152640.0000 - val_accuracy: 0.0000e+00\n",
      "Epoch 33/100\n",
      "4985/4985 [==============================] - 7s 1ms/step - loss: -7460883069.5868 - accuracy: 0.0000e+00 - val_loss: -7525275648.0000 - val_accuracy: 0.0000e+00\n",
      "Epoch 34/100\n",
      "4985/4985 [==============================] - 6s 1ms/step - loss: -8306220255.9615 - accuracy: 0.0000e+00 - val_loss: -8479775232.0000 - val_accuracy: 0.0000e+00\n",
      "Epoch 35/100\n",
      "4985/4985 [==============================] - 7s 1ms/step - loss: -9148241729.2066 - accuracy: 0.0000e+00 - val_loss: -9524173824.0000 - val_accuracy: 0.0000e+00\n",
      "Epoch 36/100\n",
      "4985/4985 [==============================] - 7s 1ms/step - loss: -10308137769.1777 - accuracy: 0.0000e+00 - val_loss: -10660250624.0000 - val_accuracy: 0.0000e+00\n",
      "Epoch 37/100\n",
      "4985/4985 [==============================] - 7s 1ms/step - loss: -11852290606.6201 - accuracy: 0.0000e+00 - val_loss: -11901351936.0000 - val_accuracy: 0.0000e+00\n",
      "Epoch 38/100\n",
      "4985/4985 [==============================] - 7s 1ms/step - loss: -13469124332.6947 - accuracy: 0.0000e+00 - val_loss: -13239472128.0000 - val_accuracy: 0.0000e+00\n",
      "Epoch 39/100\n",
      "4985/4985 [==============================] - 6s 1ms/step - loss: -14953365196.5536 - accuracy: 0.0000e+00 - val_loss: -14692064256.0000 - val_accuracy: 0.0000e+00\n",
      "Epoch 40/100\n",
      "4985/4985 [==============================] - 6s 1ms/step - loss: -16673207013.1986 - accuracy: 0.0000e+00 - val_loss: -16269434880.0000 - val_accuracy: 0.0000e+00\n",
      "Epoch 41/100\n",
      "4985/4985 [==============================] - 6s 1ms/step - loss: -17387974824.6129 - accuracy: 0.0000e+00 - val_loss: -17960155136.0000 - val_accuracy: 0.0000e+00\n",
      "Epoch 42/100\n",
      "4985/4985 [==============================] - 6s 1ms/step - loss: -20771215678.1260 - accuracy: 0.0000e+00 - val_loss: -19785422848.0000 - val_accuracy: 0.0000e+00\n",
      "Epoch 43/100\n",
      "4985/4985 [==============================] - 6s 1ms/step - loss: -22757373835.3470 - accuracy: 0.0000e+00 - val_loss: -21740802048.0000 - val_accuracy: 0.0000e+00\n",
      "Epoch 44/100\n",
      "4985/4985 [==============================] - 6s 1ms/step - loss: -23370204527.2106 - accuracy: 0.0000e+00 - val_loss: -23839664128.0000 - val_accuracy: 0.0000e+00\n",
      "Epoch 45/100\n",
      "4985/4985 [==============================] - 6s 1ms/step - loss: -25250170514.4324 - accuracy: 0.0000e+00 - val_loss: -26082273280.0000 - val_accuracy: 0.0000e+00\n",
      "Epoch 46/100\n",
      "4985/4985 [==============================] - 6s 1ms/step - loss: -28748531160.7734 - accuracy: 0.0000e+00 - val_loss: -28478922752.0000 - val_accuracy: 0.0000e+00\n",
      "Epoch 47/100\n",
      "4985/4985 [==============================] - 6s 1ms/step - loss: -30871231543.4513 - accuracy: 0.0000e+00 - val_loss: -31043342336.0000 - val_accuracy: 0.0000e+00\n",
      "Epoch 48/100\n"
     ]
    },
    {
     "name": "stdout",
     "output_type": "stream",
     "text": [
      "4985/4985 [==============================] - 6s 1ms/step - loss: -34854615125.0253 - accuracy: 0.0000e+00 - val_loss: -33781962752.0000 - val_accuracy: 0.0000e+00\n",
      "Epoch 49/100\n",
      "4985/4985 [==============================] - 6s 1ms/step - loss: -36182627699.3181 - accuracy: 0.0000e+00 - val_loss: -36699488256.0000 - val_accuracy: 0.0000e+00\n",
      "Epoch 50/100\n",
      "4985/4985 [==============================] - 6s 1ms/step - loss: -40029309402.0056 - accuracy: 0.0000e+00 - val_loss: -39802703872.0000 - val_accuracy: 0.0000e+00\n",
      "Epoch 51/100\n",
      "4985/4985 [==============================] - 7s 1ms/step - loss: -42262875185.7008 - accuracy: 0.0000e+00 - val_loss: -43078631424.0000 - val_accuracy: 0.0000e+00\n",
      "Epoch 52/100\n",
      "4985/4985 [==============================] - 6s 1ms/step - loss: -46900063740.9194 - accuracy: 0.0000e+00 - val_loss: -46572335104.0000 - val_accuracy: 0.0000e+00\n",
      "Epoch 53/100\n",
      "4985/4985 [==============================] - 6s 1ms/step - loss: -49028568992.7060 - accuracy: 0.0000e+00 - val_loss: -50277388288.0000 - val_accuracy: 0.0000e+00\n",
      "Epoch 54/100\n",
      "4985/4985 [==============================] - 6s 1ms/step - loss: -55563535259.3662 - accuracy: 0.0000e+00 - val_loss: -54182633472.0000 - val_accuracy: 0.0000e+00\n",
      "Epoch 55/100\n",
      "4985/4985 [==============================] - 6s 1ms/step - loss: -59179446910.3057 - accuracy: 0.0000e+00 - val_loss: -58300932096.0000 - val_accuracy: 0.0000e+00\n",
      "Epoch 56/100\n",
      "4985/4985 [==============================] - 6s 1ms/step - loss: -65457775147.3341 - accuracy: 0.0000e+00 - val_loss: -62660366336.0000 - val_accuracy: 0.0000e+00\n",
      "Epoch 57/100\n",
      "4985/4985 [==============================] - 6s 1ms/step - loss: -68773857088.5905 - accuracy: 0.0000e+00 - val_loss: -67259203584.0000 - val_accuracy: 0.0000e+00\n",
      "Epoch 58/100\n",
      "4985/4985 [==============================] - 6s 1ms/step - loss: -72798364928.7188 - accuracy: 0.0000e+00 - val_loss: -72105861120.0000 - val_accuracy: 0.0000e+00\n",
      "Epoch 59/100\n",
      "4985/4985 [==============================] - 6s 1ms/step - loss: -78184192665.4152 - accuracy: 0.0000e+00 - val_loss: -77223927808.0000 - val_accuracy: 0.0000e+00\n",
      "Epoch 60/100\n",
      "4985/4985 [==============================] - 6s 1ms/step - loss: -84258039393.1424 - accuracy: 0.0000e+00 - val_loss: -82608398336.0000 - val_accuracy: 0.0000e+00\n",
      "Epoch 61/100\n",
      "4985/4985 [==============================] - 6s 1ms/step - loss: -86705860824.8761 - accuracy: 0.0000e+00 - val_loss: -88261214208.0000 - val_accuracy: 0.0000e+00\n",
      "Epoch 62/100\n",
      "4985/4985 [==============================] - 6s 1ms/step - loss: -97834331714.7469 - accuracy: 0.0000e+00 - val_loss: -94202970112.0000 - val_accuracy: 0.0000e+00\n",
      "Epoch 63/100\n",
      "4985/4985 [==============================] - 6s 1ms/step - loss: -103537890262.5142 - accuracy: 0.0000e+00 - val_loss: -100438704128.0000 - val_accuracy: 0.0000e+00\n",
      "Epoch 64/100\n",
      "4985/4985 [==============================] - 7s 1ms/step - loss: -107323178681.0429 - accuracy: 0.0000e+00 - val_loss: -106998497280.0000 - val_accuracy: 0.0000e+00\n",
      "Epoch 65/100\n",
      "4985/4985 [==============================] - 7s 1ms/step - loss: -114751410043.7385 - accuracy: 0.0000e+00 - val_loss: -113859436544.0000 - val_accuracy: 0.0000e+00\n",
      "Epoch 66/100\n",
      "4985/4985 [==============================] - 8s 2ms/step - loss: -123130485200.1476 - accuracy: 0.0000e+00 - val_loss: -121057329152.0000 - val_accuracy: 0.0000e+00\n",
      "Epoch 67/100\n",
      "4985/4985 [==============================] - 8s 2ms/step - loss: -129587403469.1697 - accuracy: 0.0000e+00 - val_loss: -128609132544.0000 - val_accuracy: 0.0000e+00\n",
      "Epoch 68/100\n",
      "4985/4985 [==============================] - 9s 2ms/step - loss: -136724060729.2996 - accuracy: 0.0000e+00 - val_loss: -136471904256.0000 - val_accuracy: 0.0000e+00\n",
      "Epoch 69/100\n",
      "4985/4985 [==============================] - 8s 2ms/step - loss: -145037316281.6591 - accuracy: 0.0000e+00 - val_loss: -144704225280.0000 - val_accuracy: 0.0000e+00\n",
      "Epoch 70/100\n",
      "4985/4985 [==============================] - 9s 2ms/step - loss: -159203865722.8143 - accuracy: 0.0000e+00 - val_loss: -153276907520.0000 - val_accuracy: 0.0000e+00\n",
      "Epoch 71/100\n",
      "4985/4985 [==============================] - 8s 2ms/step - loss: -160900206577.2130 - accuracy: 0.0000e+00 - val_loss: -162233417728.0000 - val_accuracy: 0.0000e+00\n",
      "Epoch 72/100\n",
      "4985/4985 [==============================] - 9s 2ms/step - loss: -176729560291.9663 - accuracy: 0.0000e+00 - val_loss: -171580997632.0000 - val_accuracy: 0.0000e+00\n",
      "Epoch 73/100\n",
      "4985/4985 [==============================] - 8s 2ms/step - loss: -187012933319.0084 - accuracy: 0.0000e+00 - val_loss: -181315911680.0000 - val_accuracy: 0.0000e+00\n",
      "Epoch 74/100\n",
      "4985/4985 [==============================] - 7s 1ms/step - loss: -200394845184.4107 - accuracy: 0.0000e+00 - val_loss: -191449874432.0000 - val_accuracy: 0.0000e+00\n",
      "Epoch 75/100\n",
      "4985/4985 [==============================] - 8s 2ms/step - loss: -206526738900.2551 - accuracy: 0.0000e+00 - val_loss: -202070966272.0000 - val_accuracy: 0.0000e+00\n",
      "Epoch 76/100\n",
      "4985/4985 [==============================] - 8s 2ms/step - loss: -223848265183.3454 - accuracy: 0.0000e+00 - val_loss: -213090140160.0000 - val_accuracy: 0.0000e+00\n",
      "Epoch 77/100\n",
      "4985/4985 [==============================] - 7s 1ms/step - loss: -227472217205.8853 - accuracy: 0.0000e+00 - val_loss: -224558465024.0000 - val_accuracy: 0.0000e+00\n",
      "Epoch 78/100\n",
      "4985/4985 [==============================] - 8s 2ms/step - loss: -240579168406.3345 - accuracy: 0.0000e+00 - val_loss: -236488622080.0000 - val_accuracy: 0.0000e+00\n",
      "Epoch 79/100\n",
      "4985/4985 [==============================] - 7s 1ms/step - loss: -260143864866.9138 - accuracy: 0.0000e+00 - val_loss: -248855609344.0000 - val_accuracy: 0.0000e+00\n",
      "Epoch 80/100\n",
      "4985/4985 [==============================] - 8s 2ms/step - loss: -269267299361.2708 - accuracy: 0.0000e+00 - val_loss: -261698273280.0000 - val_accuracy: 0.0000e+00\n",
      "Epoch 81/100\n",
      "4985/4985 [==============================] - 6s 1ms/step - loss: -280137004120.3113 - accuracy: 0.0000e+00 - val_loss: -275052986368.0000 - val_accuracy: 0.0000e+00\n",
      "Epoch 82/100\n",
      "4985/4985 [==============================] - 7s 1ms/step - loss: -304351902630.0457 - accuracy: 0.0000e+00 - val_loss: -288953597952.0000 - val_accuracy: 0.0000e+00\n",
      "Epoch 83/100\n",
      "4985/4985 [==============================] - 6s 1ms/step - loss: -306013007407.0309 - accuracy: 0.0000e+00 - val_loss: -303349137408.0000 - val_accuracy: 0.0000e+00\n",
      "Epoch 84/100\n",
      "4985/4985 [==============================] - 6s 1ms/step - loss: -339878383009.7328 - accuracy: 0.0000e+00 - val_loss: -318288297984.0000 - val_accuracy: 0.0000e+00\n",
      "Epoch 85/100\n",
      "4985/4985 [==============================] - 7s 1ms/step - loss: -333855654131.1641 - accuracy: 0.0000e+00 - val_loss: -333829603328.0000 - val_accuracy: 0.0000e+00\n",
      "Epoch 86/100\n",
      "4985/4985 [==============================] - 7s 1ms/step - loss: -351968833747.9470 - accuracy: 0.0000e+00 - val_loss: -349880057856.0000 - val_accuracy: 0.0000e+00\n",
      "Epoch 87/100\n",
      "4985/4985 [==============================] - 7s 1ms/step - loss: -378040336226.2720 - accuracy: 0.0000e+00 - val_loss: -366478819328.0000 - val_accuracy: 0.0000e+00\n",
      "Epoch 88/100\n",
      "4985/4985 [==============================] - 7s 1ms/step - loss: -386232467942.3281 - accuracy: 0.0000e+00 - val_loss: -383708266496.0000 - val_accuracy: 0.0000e+00\n",
      "Epoch 89/100\n",
      "4985/4985 [==============================] - 7s 1ms/step - loss: -408582831391.9358 - accuracy: 0.0000e+00 - val_loss: -401550540800.0000 - val_accuracy: 0.0000e+00\n",
      "Epoch 90/100\n",
      "4985/4985 [==============================] - 6s 1ms/step - loss: -431642127794.1628 - accuracy: 0.0000e+00 - val_loss: -420024451072.0000 - val_accuracy: 0.0000e+00\n",
      "Epoch 91/100\n",
      "4985/4985 [==============================] - 7s 1ms/step - loss: -445918531181.4649 - accuracy: 0.0000e+00 - val_loss: -439075700736.0000 - val_accuracy: 0.0000e+00\n",
      "Epoch 92/100\n",
      "4985/4985 [==============================] - 7s 1ms/step - loss: -483143560185.8387 - accuracy: 0.0000e+00 - val_loss: -458725785600.0000 - val_accuracy: 0.0000e+00\n",
      "Epoch 93/100\n",
      "4985/4985 [==============================] - 7s 1ms/step - loss: -500748261639.7015 - accuracy: 0.0000e+00 - val_loss: -479032442880.0000 - val_accuracy: 0.0000e+00\n",
      "Epoch 94/100\n"
     ]
    },
    {
     "name": "stdout",
     "output_type": "stream",
     "text": [
      "4985/4985 [==============================] - 8s 2ms/step - loss: -504943159222.8865 - accuracy: 0.0000e+00 - val_loss: -499968737280.0000 - val_accuracy: 0.0000e+00\n",
      "Epoch 95/100\n",
      "4985/4985 [==============================] - 7s 1ms/step - loss: -533721677791.1400 - accuracy: 0.0000e+00 - val_loss: -521601122304.0000 - val_accuracy: 0.0000e+00\n",
      "Epoch 96/100\n",
      "4985/4985 [==============================] - 8s 2ms/step - loss: -555042613089.4504 - accuracy: 0.0000e+00 - val_loss: -543965806592.0000 - val_accuracy: 0.0000e+00\n",
      "Epoch 97/100\n",
      "4985/4985 [==============================] - 8s 2ms/step - loss: -582488970522.1853 - accuracy: 0.0000e+00 - val_loss: -567049388032.0000 - val_accuracy: 0.0000e+00\n",
      "Epoch 98/100\n",
      "4985/4985 [==============================] - 8s 2ms/step - loss: -608953275404.7333 - accuracy: 0.0000e+00 - val_loss: -590887583744.0000 - val_accuracy: 0.0000e+00\n",
      "Epoch 99/100\n",
      "4985/4985 [==============================] - 8s 2ms/step - loss: -647353506160.8536 - accuracy: 0.0000e+00 - val_loss: -615478525952.0000 - val_accuracy: 0.0000e+00\n",
      "Epoch 100/100\n",
      "4985/4985 [==============================] - 9s 2ms/step - loss: -657869124052.2551 - accuracy: 0.0000e+00 - val_loss: -640740360192.0000 - val_accuracy: 0.0000e+00\n"
     ]
    }
   ],
   "source": [
    "history = model.fit(train_data, train_targets, epochs=100, validation_data=(validation_data, validation_targets))"
   ]
  },
  {
   "cell_type": "markdown",
   "metadata": {},
   "source": [
    "training Loss Vs Validation Loss### "
   ]
  },
  {
   "cell_type": "code",
   "execution_count": 28,
   "metadata": {},
   "outputs": [
    {
     "data": {
      "image/png": "[encoded data removed]",
      "text/plain": [
       "<Figure size 432x288 with 1 Axes>"
      ]
     },
     "metadata": {
      "needs_background": "light"
     },
     "output_type": "display_data"
    }
   ],
   "source": [
    "import matplotlib.pyplot as plt\n",
    "loss = history.history['accuracy']\n",
    "val_loss = history.history['val_accuracy']\n",
    "epochs = range(1, len(loss) + 1)\n",
    "plt.plot(epochs, loss, 'bo', label='Training accuracy')\n",
    "plt.plot(epochs, val_loss, 'b', label='Validation accuracy')\n",
    "plt.title('Training and validation accuracy')\n",
    "plt.xlabel('Epochs')\n",
    "plt.ylabel('Accuracy')\n",
    "plt.legend()\n",
    "plt.show()"
   ]
  },
  {
   "cell_type": "code",
   "execution_count": 31,
   "metadata": {},
   "outputs": [
    {
     "name": "stdout",
     "output_type": "stream",
     "text": [
      "2671/2671 [==============================] - 3s 955us/step - loss: -684231753728.0000 - accuracy: 0.0000e+00\n"
     ]
    },
    {
     "data": {
      "text/plain": [
       "[-684231753728.0, 0.0]"
      ]
     },
     "execution_count": 31,
     "metadata": {},
     "output_type": "execute_result"
    }
   ],
   "source": [
    "model.evaluate(test_data, test_targets)"
   ]
  },
  {
   "cell_type": "markdown",
   "metadata": {},
   "source": [
    "Validation accuracy### "
   ]
  },
  {
   "cell_type": "code",
   "execution_count": 29,
   "metadata": {},
   "outputs": [
    {
     "ename": "NameError",
     "evalue": "name 'history_dict' is not defined",
     "output_type": "error",
     "traceback": [
      "\u001b[1;31m---------------------------------------------------------------------------\u001b[0m",
      "\u001b[1;31mNameError\u001b[0m                                 Traceback (most recent call last)",
      "\u001b[1;32m<ipython-input-29-81eee1c5f320>\u001b[0m in \u001b[0;36m<module>\u001b[1;34m\u001b[0m\n\u001b[1;32m----> 1\u001b[1;33m \u001b[0maccuracy_values\u001b[0m \u001b[1;33m=\u001b[0m \u001b[0mhistory_dict\u001b[0m\u001b[1;33m[\u001b[0m\u001b[1;34m'accuracy'\u001b[0m\u001b[1;33m]\u001b[0m\u001b[1;33m\u001b[0m\u001b[1;33m\u001b[0m\u001b[0m\n\u001b[0m\u001b[0;32m      2\u001b[0m \u001b[0mval_accuracy_values\u001b[0m\u001b[1;33m=\u001b[0m\u001b[0mhistory_dict\u001b[0m\u001b[1;33m[\u001b[0m\u001b[1;34m'val_accuracy'\u001b[0m\u001b[1;33m]\u001b[0m\u001b[1;33m\u001b[0m\u001b[1;33m\u001b[0m\u001b[0m\n\u001b[0;32m      3\u001b[0m \u001b[0mplt\u001b[0m\u001b[1;33m.\u001b[0m\u001b[0mplot\u001b[0m\u001b[1;33m(\u001b[0m\u001b[0mval_accuracy_values\u001b[0m\u001b[1;33m,\u001b[0m\u001b[1;34m'-r'\u001b[0m\u001b[1;33m,\u001b[0m\u001b[0mlabel\u001b[0m\u001b[1;33m=\u001b[0m\u001b[1;34m'val_accuracy'\u001b[0m\u001b[1;33m)\u001b[0m\u001b[1;33m\u001b[0m\u001b[1;33m\u001b[0m\u001b[0m\n\u001b[0;32m      4\u001b[0m \u001b[0mplt\u001b[0m\u001b[1;33m.\u001b[0m\u001b[0mplot\u001b[0m\u001b[1;33m(\u001b[0m\u001b[0maccuracy_values\u001b[0m\u001b[1;33m,\u001b[0m\u001b[1;34m'-b'\u001b[0m\u001b[1;33m,\u001b[0m\u001b[0mlabel\u001b[0m\u001b[1;33m=\u001b[0m\u001b[1;34m'accuracy'\u001b[0m\u001b[1;33m)\u001b[0m\u001b[1;33m\u001b[0m\u001b[1;33m\u001b[0m\u001b[0m\n\u001b[0;32m      5\u001b[0m \u001b[0mplt\u001b[0m\u001b[1;33m.\u001b[0m\u001b[0mlegend\u001b[0m\u001b[1;33m(\u001b[0m\u001b[1;33m)\u001b[0m\u001b[1;33m\u001b[0m\u001b[1;33m\u001b[0m\u001b[0m\n",
      "\u001b[1;31mNameError\u001b[0m: name 'history_dict' is not defined"
     ]
    }
   ],
   "source": [
    "accuracy_values = history_dict['accuracy']\n",
    "val_accuracy_values=history_dict['val_accuracy']\n",
    "plt.plot(val_accuracy_values,'-r',label='val_accuracy')\n",
    "plt.plot(accuracy_values,'-b',label='accuracy')\n",
    "plt.legend()\n",
    "plt.xlabel(\"Epochs\")"
   ]
  },
  {
   "cell_type": "markdown",
   "metadata": {},
   "source": [
    "\n",
    "Prediction### "
   ]
  },
  {
   "cell_type": "code",
   "execution_count": 30,
   "metadata": {},
   "outputs": [
    {
     "ename": "NameError",
     "evalue": "name 'X_test' is not defined",
     "output_type": "error",
     "traceback": [
      "\u001b[1;31m---------------------------------------------------------------------------\u001b[0m",
      "\u001b[1;31mNameError\u001b[0m                                 Traceback (most recent call last)",
      "\u001b[1;32m<ipython-input-30-fdaaf2360398>\u001b[0m in \u001b[0;36m<module>\u001b[1;34m\u001b[0m\n\u001b[1;32m----> 1\u001b[1;33m \u001b[0my_pred\u001b[0m \u001b[1;33m=\u001b[0m \u001b[0mmodel\u001b[0m\u001b[1;33m.\u001b[0m\u001b[0mpredict_classes\u001b[0m\u001b[1;33m(\u001b[0m\u001b[0mX_test\u001b[0m\u001b[1;33m)\u001b[0m\u001b[1;33m\u001b[0m\u001b[1;33m\u001b[0m\u001b[0m\n\u001b[0m",
      "\u001b[1;31mNameError\u001b[0m: name 'X_test' is not defined"
     ]
    }
   ],
   "source": [
    "y_pred = model.predict_classes(X_test)"
   ]
  },
  {
   "cell_type": "code",
   "execution_count": null,
   "metadata": {},
   "outputs": [],
   "source": [
    "#scores\n",
    "print(\"Accuracy Neural Net:\",metrics.accuracy_score(y_test, y_pred))\n",
    "print(\"Precision Neural Net:\",metrics.precision_score(y_test, y_pred))\n",
    "print(\"Recall Neural Net:\",metrics.recall_score(y_test, y_pred))\n",
    "print(\"F1 Score Neural Net:\",metrics.f1_score(y_test, y_pred))\n",
    "#print(metrics.classification_report(y_test, y_pred))"
   ]
  },
  {
   "cell_type": "markdown",
   "metadata": {},
   "source": [
    "ACCURACY=99.84% "
   ]
  }
 ],
 "metadata": {
  "kernelspec": {
   "display_name": "Python 3",
   "language": "python",
   "name": "python3"
  },
  "language_info": {
   "codemirror_mode": {
    "name": "ipython",
    "version": 3
   },
   "file_extension": ".py",
   "mimetype": "text/x-python",
   "name": "python",
   "nbconvert_exporter": "python",
   "pygments_lexer": "ipython3",
   "version": "3.8.5"
  }
 },
 "nbformat": 4,
 "nbformat_minor": 4
}
